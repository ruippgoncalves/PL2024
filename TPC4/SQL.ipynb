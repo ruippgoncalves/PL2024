{
 "cells": [
  {
   "cell_type": "markdown",
   "source": [
    "# SQL\n",
    "\n",
    "Trabalho desenvolvido por Rui Gonçalves (A101759) a 2024-03-01\n",
    "\n",
    "## Descrição\n",
    "\n",
    "Desenvolvimento de um lexer para a query de `SELECT` de SQL.\n",
    "\n",
    "## Trabalho desenvolvido"
   ],
   "metadata": {
    "collapsed": false
   },
   "id": "57be33508a052ff2"
  },
  {
   "cell_type": "code",
   "outputs": [],
   "source": [
    "import ply.lex as lex"
   ],
   "metadata": {
    "collapsed": false,
    "ExecuteTime": {
     "end_time": "2024-03-01T17:02:52.553508Z",
     "start_time": "2024-03-01T17:02:52.545238Z"
    }
   },
   "id": "1731e98764d7753c",
   "execution_count": 1
  },
  {
   "cell_type": "markdown",
   "source": [
    "### Processamento\n",
    "\n",
    "Começando com as definições keywords e os tokens."
   ],
   "metadata": {
    "collapsed": false
   },
   "id": "1f8bb57276fdc3e6"
  },
  {
   "cell_type": "code",
   "outputs": [],
   "source": [
    "reserved = {\n",
    "    'select': 'SELECT',\n",
    "    'from': 'FROM',\n",
    "    'where': 'WHERE',\n",
    "    'and': 'AND',\n",
    "    'or': 'OR',\n",
    "    'like': 'LIKE',\n",
    "    'inner': 'INNER',\n",
    "    'outer': 'OUTER',\n",
    "    'left': 'LEFT',\n",
    "    'right': 'RIGHT',\n",
    "    'full': 'FULL',\n",
    "    'on': 'ON',\n",
    "}\n",
    "\n",
    "tokens = [\n",
    "    'IDENTIFIER',\n",
    "    'COMMA',\n",
    "    'PERIOD',\n",
    "    'SEMICOLON',\n",
    "    'OPERATOR',\n",
    "    'LEFT_PAREN',\n",
    "    'RIGHT_PAREN',\n",
    "    'NUMBER',\n",
    "    'STRING',\n",
    "] + list(reserved.values())"
   ],
   "metadata": {
    "collapsed": false,
    "ExecuteTime": {
     "end_time": "2024-03-01T17:02:52.559538Z",
     "start_time": "2024-03-01T17:02:52.555033Z"
    }
   },
   "id": "cecfc719b52393f1",
   "execution_count": 2
  },
  {
   "cell_type": "markdown",
   "source": [
    "Regex dos tokens básicos."
   ],
   "metadata": {
    "collapsed": false
   },
   "id": "b3160fc7445b3eab"
  },
  {
   "cell_type": "code",
   "outputs": [],
   "source": [
    "t_COMMA = r','\n",
    "t_PERIOD = r'\\.'\n",
    "t_SEMICOLON = r';'\n",
    "t_OPERATOR = r'[=<>]=?'\n",
    "t_LEFT_PAREN = r'\\('\n",
    "t_RIGHT_PAREN = r'\\)'\n",
    "t_STRING = r\"'[^']*'\""
   ],
   "metadata": {
    "collapsed": false,
    "ExecuteTime": {
     "end_time": "2024-03-01T17:02:52.565490Z",
     "start_time": "2024-03-01T17:02:52.560732Z"
    }
   },
   "id": "d549191b75297323",
   "execution_count": 3
  },
  {
   "cell_type": "markdown",
   "source": [
    "Os restantes tokens."
   ],
   "metadata": {
    "collapsed": false
   },
   "id": "29d880ce013d1214"
  },
  {
   "cell_type": "code",
   "outputs": [],
   "source": [
    "def t_IDENTIFIER(t):\n",
    "    r'\\b[a-zA-Z]\\w*?\\b'\n",
    "    t.type = reserved.get(t.value.lower(), 'IDENTIFIER')\n",
    "    return t\n",
    "\n",
    "def t_NUMBER(t):\n",
    "    r'\\d+(\\.\\d+)?'\n",
    "    t.value = float(t.value)\n",
    "    return t\n",
    "\n",
    "def t_COMMENT(t):\n",
    "    r'--.*'\n",
    "    pass"
   ],
   "metadata": {
    "collapsed": false,
    "ExecuteTime": {
     "end_time": "2024-03-01T17:02:52.571630Z",
     "start_time": "2024-03-01T17:02:52.567588Z"
    }
   },
   "id": "1aa4e16aa980f342",
   "execution_count": 4
  },
  {
   "cell_type": "markdown",
   "source": [
    "Os tokens especiais do `ply.lex`."
   ],
   "metadata": {
    "collapsed": false
   },
   "id": "d44bc6ed01c31405"
  },
  {
   "cell_type": "code",
   "outputs": [],
   "source": [
    "t_ignore = ' \\t'\n",
    "\n",
    "def t_newline(t):\n",
    "    r'\\n+'\n",
    "    t.lexer.lineno += len(t.value)\n",
    "\n",
    "def t_error(t):\n",
    "    print(f\"Illegal character '{t.value[0]}' at line {t.lineno}\")\n",
    "    t.lexer.skip(1)"
   ],
   "metadata": {
    "collapsed": false,
    "ExecuteTime": {
     "end_time": "2024-03-01T17:02:52.578545Z",
     "start_time": "2024-03-01T17:02:52.573017Z"
    }
   },
   "id": "c805ff17ec613ce2",
   "execution_count": 5
  },
  {
   "cell_type": "markdown",
   "source": [
    "### Exemplo"
   ],
   "metadata": {
    "collapsed": false
   },
   "id": "5a3341963c7502c9"
  },
  {
   "cell_type": "code",
   "outputs": [],
   "source": [
    "sql_query = \"\"\"\n",
    "SELECT employees.employee_id, employees.first_name, employees.last_name, departments.department_name\n",
    "FROM employees\n",
    "JOIN departments ON employees.department_id = departments.department_id\n",
    "WHERE (employees.salary > 50000 AND departments.location_id = 1700)\n",
    "   OR (employees.salary <= 50000 AND employees.job_id LIKE 'IT%');\n",
    "\"\"\""
   ],
   "metadata": {
    "collapsed": false,
    "ExecuteTime": {
     "end_time": "2024-03-01T17:02:52.585630Z",
     "start_time": "2024-03-01T17:02:52.580134Z"
    }
   },
   "id": "8bb024c87d82ae1b",
   "execution_count": 6
  },
  {
   "cell_type": "markdown",
   "source": [
    "Por motivos desconhecidos, o ply.lex.lex() não funcionou no jupyter, como tal, será invocado o python auxiliar com o código deste notebook para exemplificar."
   ],
   "metadata": {
    "collapsed": false
   },
   "id": "acc2ecdbf0253ffb"
  },
  {
   "cell_type": "code",
   "outputs": [
    {
     "name": "stdout",
     "output_type": "stream",
     "text": [
      "LexToken(SELECT,'SELECT',2,1)\n",
      "LexToken(IDENTIFIER,'employees',2,8)\n",
      "LexToken(PERIOD,'.',2,17)\n",
      "LexToken(IDENTIFIER,'employee_id',2,18)\n",
      "LexToken(COMMA,',',2,29)\n",
      "LexToken(IDENTIFIER,'employees',2,31)\n",
      "LexToken(PERIOD,'.',2,40)\n",
      "LexToken(IDENTIFIER,'first_name',2,41)\n",
      "LexToken(COMMA,',',2,51)\n",
      "LexToken(IDENTIFIER,'employees',2,53)\n",
      "LexToken(PERIOD,'.',2,62)\n",
      "LexToken(IDENTIFIER,'last_name',2,63)\n",
      "LexToken(COMMA,',',2,72)\n",
      "LexToken(IDENTIFIER,'departments',2,74)\n",
      "LexToken(PERIOD,'.',2,85)\n",
      "LexToken(IDENTIFIER,'department_name',2,86)\n",
      "LexToken(FROM,'FROM',3,102)\n",
      "LexToken(IDENTIFIER,'employees',3,107)\n",
      "LexToken(IDENTIFIER,'JOIN',4,117)\n",
      "LexToken(IDENTIFIER,'departments',4,122)\n",
      "LexToken(ON,'ON',4,134)\n",
      "LexToken(IDENTIFIER,'employees',4,137)\n",
      "LexToken(PERIOD,'.',4,146)\n",
      "LexToken(IDENTIFIER,'department_id',4,147)\n",
      "LexToken(OPERATOR,'=',4,161)\n",
      "LexToken(IDENTIFIER,'departments',4,163)\n",
      "LexToken(PERIOD,'.',4,174)\n",
      "LexToken(IDENTIFIER,'department_id',4,175)\n",
      "LexToken(WHERE,'WHERE',5,189)\n",
      "LexToken(LEFT_PAREN,'(',5,195)\n",
      "LexToken(IDENTIFIER,'employees',5,196)\n",
      "LexToken(PERIOD,'.',5,205)\n",
      "LexToken(IDENTIFIER,'salary',5,206)\n",
      "LexToken(OPERATOR,'>',5,213)\n",
      "LexToken(NUMBER,50000.0,5,215)\n",
      "LexToken(AND,'AND',5,221)\n",
      "LexToken(IDENTIFIER,'departments',5,225)\n",
      "LexToken(PERIOD,'.',5,236)\n",
      "LexToken(IDENTIFIER,'location_id',5,237)\n",
      "LexToken(OPERATOR,'=',5,249)\n",
      "LexToken(NUMBER,1700.0,5,251)\n",
      "LexToken(RIGHT_PAREN,')',5,255)\n",
      "LexToken(OR,'OR',6,260)\n",
      "LexToken(LEFT_PAREN,'(',6,263)\n",
      "LexToken(IDENTIFIER,'employees',6,264)\n",
      "LexToken(PERIOD,'.',6,273)\n",
      "LexToken(IDENTIFIER,'salary',6,274)\n",
      "LexToken(OPERATOR,'<=',6,281)\n",
      "LexToken(NUMBER,50000.0,6,284)\n",
      "LexToken(AND,'AND',6,290)\n",
      "LexToken(IDENTIFIER,'employees',6,294)\n",
      "LexToken(PERIOD,'.',6,303)\n",
      "LexToken(IDENTIFIER,'job_id',6,304)\n",
      "LexToken(LIKE,'LIKE',6,311)\n",
      "LexToken(STRING,\"'IT%'\",6,316)\n",
      "LexToken(RIGHT_PAREN,')',6,321)\n",
      "LexToken(SEMICOLON,';',6,322)\n"
     ]
    }
   ],
   "source": [
    "%run sql.py"
   ],
   "metadata": {
    "collapsed": false,
    "ExecuteTime": {
     "end_time": "2024-03-01T17:02:52.602181Z",
     "start_time": "2024-03-01T17:02:52.586932Z"
    }
   },
   "id": "5bc3976e8229f8ad",
   "execution_count": 7
  }
 ],
 "metadata": {
  "kernelspec": {
   "display_name": "Python 3",
   "language": "python",
   "name": "python3"
  },
  "language_info": {
   "codemirror_mode": {
    "name": "ipython",
    "version": 2
   },
   "file_extension": ".py",
   "mimetype": "text/x-python",
   "name": "python",
   "nbconvert_exporter": "python",
   "pygments_lexer": "ipython2",
   "version": "2.7.6"
  }
 },
 "nbformat": 4,
 "nbformat_minor": 5
}
