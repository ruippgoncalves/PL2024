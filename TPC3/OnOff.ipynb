{
 "cells": [
  {
   "cell_type": "markdown",
   "source": [
    "# Somador On/Off\n",
    "\n",
    "Trabalho desenvolvido por Rui Gonçalves (A101759) a 2024-02-23\n",
    "\n",
    "## Descrição\n",
    "\n",
    "É realiza a soma de todos os números entre um on e um off.\n",
    "Se em algum momento (mesmo fora do on e do off) se encontrar um igual, é impresso para o stdout a soma atual.\n",
    "\n",
    "## Trabalho desenvolvido"
   ],
   "metadata": {
    "collapsed": false
   },
   "id": "57be33508a052ff2"
  },
  {
   "cell_type": "code",
   "outputs": [],
   "source": [
    "import re"
   ],
   "metadata": {
    "collapsed": false,
    "ExecuteTime": {
     "end_time": "2024-03-01T14:40:10.920388Z",
     "start_time": "2024-03-01T14:40:10.914706Z"
    }
   },
   "id": "1731e98764d7753c",
   "execution_count": 1
  },
  {
   "cell_type": "markdown",
   "source": [
    "### Processamento\n",
    "\n",
    "Este problema divide-se em dois, o de ler o texto e o de somar.\n",
    "A leitura é bastante simples bastando apenas encontrar todos os `on`, os `off`, numeros e `=`."
   ],
   "metadata": {
    "collapsed": false
   },
   "id": "1f8bb57276fdc3e6"
  },
  {
   "cell_type": "code",
   "outputs": [
    {
     "data": {
      "text/plain": "['on',\n 'on',\n 'on',\n 'off',\n 'off',\n 'off',\n 'off',\n 'off',\n 'off',\n 'off',\n '1',\n '12',\n '-5',\n '+2',\n '=']"
     },
     "execution_count": 2,
     "metadata": {},
     "output_type": "execute_result"
    }
   ],
   "source": [
    "def text2on_off_sum(text):\n",
    "    matched = re.findall(r'on|off|[+\\-]?\\d+|=', text, flags=re.I.IGNORECASE)\n",
    "    matched = [part.lower() for part in matched]\n",
    "    return matched\n",
    "\n",
    "text2on_off_sum(\"on On No ON off Off oFf ofF OFf oFF OFF 1 12 -5 +2 =\")"
   ],
   "metadata": {
    "collapsed": false,
    "ExecuteTime": {
     "end_time": "2024-03-01T14:40:10.965866Z",
     "start_time": "2024-03-01T14:40:10.959204Z"
    }
   },
   "id": "cecfc719b52393f1",
   "execution_count": 2
  },
  {
   "cell_type": "markdown",
   "source": [
    "A seguir, apenas é necessário percorrer a nossa lista e somar sempre que possivel (dentro de um on e de um off) ou imprimir o sumatorio atual."
   ],
   "metadata": {
    "collapsed": false
   },
   "id": "b3160fc7445b3eab"
  },
  {
   "cell_type": "code",
   "outputs": [],
   "source": [
    "def on_off_sum(text):\n",
    "    matched = text2on_off_sum(text)\n",
    "    accept_numbers = True\n",
    "    count = 0\n",
    "    \n",
    "    for token in matched:\n",
    "        if token == '=':\n",
    "            print(f'soma = {count}')\n",
    "        elif token == 'on':\n",
    "            accept_numbers = True\n",
    "        elif token == 'off':\n",
    "            accept_numbers = False\n",
    "        elif accept_numbers:\n",
    "            count += int(token)"
   ],
   "metadata": {
    "collapsed": false,
    "ExecuteTime": {
     "end_time": "2024-03-01T14:40:10.974756Z",
     "start_time": "2024-03-01T14:40:10.967639Z"
    }
   },
   "id": "d549191b75297323",
   "execution_count": 3
  },
  {
   "cell_type": "markdown",
   "source": [
    "### Exemplo"
   ],
   "metadata": {
    "collapsed": false
   },
   "id": "5a3341963c7502c9"
  },
  {
   "cell_type": "code",
   "outputs": [
    {
     "name": "stdout",
     "output_type": "stream",
     "text": [
      "soma = 1\n",
      "soma = 2\n",
      "soma = 3\n",
      "soma = 3\n",
      "soma = 3\n"
     ]
    }
   ],
   "source": [
    "on_off_sum('1 = on 1 = on 1 = off = 1 =')"
   ],
   "metadata": {
    "collapsed": false,
    "ExecuteTime": {
     "end_time": "2024-03-01T14:40:10.980451Z",
     "start_time": "2024-03-01T14:40:10.976562Z"
    }
   },
   "id": "5bc3976e8229f8ad",
   "execution_count": 4
  }
 ],
 "metadata": {
  "kernelspec": {
   "display_name": "Python 3",
   "language": "python",
   "name": "python3"
  },
  "language_info": {
   "codemirror_mode": {
    "name": "ipython",
    "version": 2
   },
   "file_extension": ".py",
   "mimetype": "text/x-python",
   "name": "python",
   "nbconvert_exporter": "python",
   "pygments_lexer": "ipython2",
   "version": "2.7.6"
  }
 },
 "nbformat": 4,
 "nbformat_minor": 5
}
