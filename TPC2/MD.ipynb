{
 "cells": [
  {
   "cell_type": "markdown",
   "source": [
    "# Conversor de Markdown para HTML\n",
    "\n",
    "Trabalho desenvolvido por Rui Gonçalves (A101759) a 2024-02-16\n",
    "\n",
    "## Descrição\n",
    "\n",
    "- Cabeçalhos\n",
    "- Listas ordenadas\n",
    "- Linhas horizontais\n",
    "- Blockquotes\n",
    "- Bloco de código\n",
    "- Negrito\n",
    "- Itálico\n",
    "- Links\n",
    "- Imagens\n",
    "\n",
    "Também foram implementados listas desordenadas.\n",
    "\n",
    "## Trabalho desenvolvido"
   ],
   "metadata": {
    "collapsed": false
   },
   "id": "44ababa9323e80c0"
  },
  {
   "cell_type": "code",
   "outputs": [],
   "source": [
    "import re\n",
    "from IPython.display import display, HTML"
   ],
   "metadata": {
    "collapsed": false,
    "ExecuteTime": {
     "end_time": "2024-02-16T19:51:49.299026900Z",
     "start_time": "2024-02-16T19:51:49.103363500Z"
    }
   },
   "id": "5fbcab9e8b827a81",
   "execution_count": 1
  },
  {
   "cell_type": "markdown",
   "source": [
    "### Processamento\n",
    "\n",
    "As linhas de títulos são começadas pelo caracter `#` sendo que podem ter até 6 (`######`), cada um corresponde a um nivel adicional."
   ],
   "metadata": {
    "collapsed": false
   },
   "id": "8a47d72e0875f42"
  },
  {
   "cell_type": "code",
   "outputs": [],
   "source": [
    "def convert_title(text):\n",
    "    return re.sub(r'(^#+)(.*)', lambda t: f'<h{len(t[1])}>{t[2]}</h{len(t[1])}>', text)"
   ],
   "metadata": {
    "collapsed": false,
    "ExecuteTime": {
     "end_time": "2024-02-16T19:51:49.322650Z",
     "start_time": "2024-02-16T19:51:49.292516500Z"
    }
   },
   "id": "6ca97fd5a8c28aec",
   "execution_count": 2
  },
  {
   "cell_type": "markdown",
   "source": [
    "As linhas horizontais são definidas por `___`, `---` ou `***`, pelo que um simples `re.sub` pode ser utilizado."
   ],
   "metadata": {
    "collapsed": false
   },
   "id": "eb2ff1373857a16b"
  },
  {
   "cell_type": "code",
   "outputs": [],
   "source": [
    "def convert_hr(text):\n",
    "    return re.sub(r'^___|---|\\*\\*\\*$', r'<hr>', text)"
   ],
   "metadata": {
    "collapsed": false,
    "ExecuteTime": {
     "end_time": "2024-02-16T19:51:49.352923300Z",
     "start_time": "2024-02-16T19:51:49.331166500Z"
    }
   },
   "id": "d4d7e321b4b7cec6",
   "execution_count": 3
  },
  {
   "cell_type": "markdown",
   "source": [
    "Os links são definidos como `[text](href)`."
   ],
   "metadata": {
    "collapsed": false
   },
   "id": "6cc57e797e4c564e"
  },
  {
   "cell_type": "code",
   "outputs": [],
   "source": [
    "def convert_link(text):\n",
    "    return re.sub(r'([^!])\\[([^\\]]*)\\]\\(([^\\)]*)\\)', lambda l: f'{l[1]}<a href=\"{l[3]}\">{l[2]}</a>', text)"
   ],
   "metadata": {
    "collapsed": false,
    "ExecuteTime": {
     "end_time": "2024-02-16T19:51:49.355923400Z",
     "start_time": "2024-02-16T19:51:49.343402500Z"
    }
   },
   "id": "99a05474a3117188",
   "execution_count": 4
  },
  {
   "cell_type": "markdown",
   "source": [
    "As imagens são semelhantes a links, com `![alt](href)`."
   ],
   "metadata": {
    "collapsed": false
   },
   "id": "a60a45ed9edc704d"
  },
  {
   "cell_type": "code",
   "outputs": [],
   "source": [
    "def convert_img(text):\n",
    "    return re.sub(r'!\\[([^\\]]*)\\]\\(([^\\)]*)\\)', lambda l: f'<img alt=\"{l[1]}\" src=\"{l[2]}\" />', text)"
   ],
   "metadata": {
    "collapsed": false,
    "ExecuteTime": {
     "end_time": "2024-02-16T19:51:49.356924700Z",
     "start_time": "2024-02-16T19:51:49.350925600Z"
    }
   },
   "id": "17d192fbdd7aa509",
   "execution_count": 5
  },
  {
   "cell_type": "markdown",
   "source": [
    "Listas ordenadas começam a linha do item com `NUMERO. `, sendo que desordenada é só `. `."
   ],
   "metadata": {
    "collapsed": false
   },
   "id": "54b8813237bfd492"
  },
  {
   "cell_type": "code",
   "outputs": [],
   "source": [
    "def convert_list(text):\n",
    "    def s(l):\n",
    "        t = '<ol>' if len(l[1]) != 0 else '<ul>'\n",
    "        return f'{t}{l[2]}'\n",
    "    return re.sub(r'^(\\d*)\\. (.+)', s, text)\n",
    "\n",
    "def merge_clusters(strings, clu, m_open, m_close):\n",
    "    merged_list = []\n",
    "    current_cluster = []\n",
    "    c = f'<{clu}>'\n",
    "\n",
    "    for string in strings:\n",
    "        if string.startswith(c):\n",
    "            current_cluster.append(m_open + string[len(c):] + m_close)\n",
    "        elif len(current_cluster) != 0:\n",
    "            merged_list.append(c + ''.join(current_cluster) + f'</{clu}>')\n",
    "            current_cluster = []\n",
    "            merged_list.append(string)\n",
    "        else:\n",
    "            merged_list.append(string)\n",
    "\n",
    "    if len(current_cluster) != 0:\n",
    "        merged_list.append(c + ''.join(current_cluster) + f'</{clu}>')\n",
    "\n",
    "    return merged_list\n",
    "\n",
    "def merge_lists(l):\n",
    "    l = merge_clusters(l, 'ol', '<li>', '</li>')\n",
    "    l = merge_clusters(l, 'ul', '<li>', '</li>')\n",
    "    return l"
   ],
   "metadata": {
    "collapsed": false,
    "ExecuteTime": {
     "end_time": "2024-02-16T19:51:49.411667900Z",
     "start_time": "2024-02-16T19:51:49.363481900Z"
    }
   },
   "id": "9e1c51a4d181af62",
   "execution_count": 6
  },
  {
   "cell_type": "markdown",
   "source": [
    "Blockquotes começam a linha `> `."
   ],
   "metadata": {
    "collapsed": false
   },
   "id": "723171c6d2074d95"
  },
  {
   "cell_type": "code",
   "outputs": [],
   "source": [
    "def convert_blockquote(text):\n",
    "    return re.sub('^> ', '<blockquote>', text)\n",
    "\n",
    "def merge_blockquotes(l):\n",
    "    return merge_clusters(l, 'blockquote', '', '')"
   ],
   "metadata": {
    "collapsed": false,
    "ExecuteTime": {
     "end_time": "2024-02-16T19:51:49.411667900Z",
     "start_time": "2024-02-16T19:51:49.395074400Z"
    }
   },
   "id": "326522c47805006e",
   "execution_count": 7
  },
  {
   "cell_type": "markdown",
   "source": [
    "Por último, o negrito e itálico, correspondem a `**negrito**`, `__negrito__`, `*italico*`, `*italico*`, sendo que estes podem ser juntos para `***negrito e itálico***` ou `***negrito e itálico***`."
   ],
   "metadata": {
    "collapsed": false
   },
   "id": "c01c8a6a804b9cd6"
  },
  {
   "cell_type": "code",
   "outputs": [],
   "source": [
    "# Correctly builds a list of the open and close\n",
    "#  [*, **, **, *, ***, **, ***, ***, **, ***]\n",
    "#  [1,  2,  2, 1,   1,  2,   3,   3,  2,   1]\n",
    "def open_close_build(starts):\n",
    "    final = []\n",
    "    stack = []\n",
    "\n",
    "    for part in starts:\n",
    "        last = '' if len(stack) == 0 else stack[-1]\n",
    "        mat = last == part\n",
    "        final.append(mat)\n",
    "\n",
    "        # Remove or append to the stack\n",
    "        if mat:\n",
    "            stack = stack[:-1]\n",
    "        else:\n",
    "            stack.append(part)\n",
    "\n",
    "    return final\n",
    "\n",
    "\n",
    "def write_tag(tag, close):\n",
    "    close = '/' if close else ''\n",
    "    return f'<{close}{tag}>'\n",
    "\n",
    "\n",
    "def convert_decoration(text):\n",
    "    starts = re.findall(r'\\*{1,3}|_{1,3}', text)\n",
    "    final = open_close_build(starts)\n",
    "\n",
    "    for m, c in zip(starts, final):\n",
    "        if m == '*' or m == '_':\n",
    "            tag = 'i'\n",
    "        elif m == '**' or m == '__':\n",
    "            tag = 'b'\n",
    "        else:\n",
    "            tag = 'bi' if c else 'ib'\n",
    "\n",
    "        tag = ''.join([write_tag(t, c) for t in tag])\n",
    "\n",
    "        text = text.replace(m, tag, 1)\n",
    "\n",
    "    return text"
   ],
   "metadata": {
    "collapsed": false,
    "ExecuteTime": {
     "end_time": "2024-02-16T19:51:49.452908900Z",
     "start_time": "2024-02-16T19:51:49.416668Z"
    }
   },
   "id": "e9bf2edcaf92c005",
   "execution_count": 8
  },
  {
   "cell_type": "markdown",
   "source": [
    "Realizar a troca linha a linha."
   ],
   "metadata": {
    "collapsed": false
   },
   "id": "5aff74882b942b97"
  },
  {
   "cell_type": "code",
   "outputs": [],
   "source": [
    "def convert_part(part):\n",
    "    part = convert_title(part)\n",
    "    part = convert_hr(part)\n",
    "    part = convert_link(part)\n",
    "    part = convert_img(part)\n",
    "    part = convert_list(part)\n",
    "    part = convert_blockquote(part)\n",
    "    part = convert_decoration(part)\n",
    "    return part\n",
    "\n",
    "def convert_line(line):\n",
    "    if not line:\n",
    "        line = '<br>'\n",
    "    else:\n",
    "        # Handle ``\n",
    "        parts = line.split('`')\n",
    "        final = []\n",
    "        \n",
    "        for e, part in enumerate(parts):\n",
    "            if (e + 1) % 2 == 0:\n",
    "                final.append(part)\n",
    "            else:\n",
    "                final.append(convert_part(part))\n",
    "\n",
    "        line = ''.join(final)\n",
    "\n",
    "    return line\n",
    "\n",
    "def text2md(text):\n",
    "    lines = text.splitlines()\n",
    "    lines = [convert_line(line) for line in lines]\n",
    "    lines = merge_lists(lines)\n",
    "    lines = merge_blockquotes(lines)\n",
    "\n",
    "    return ''.join(lines)"
   ],
   "metadata": {
    "collapsed": false,
    "ExecuteTime": {
     "end_time": "2024-02-16T19:51:49.455909100Z",
     "start_time": "2024-02-16T19:51:49.423769700Z"
    }
   },
   "id": "23af13964efd72cd",
   "execution_count": 9
  },
  {
   "cell_type": "markdown",
   "source": [
    "### Exemplo"
   ],
   "metadata": {
    "collapsed": false
   },
   "id": "80d215db6afa50"
  },
  {
   "cell_type": "code",
   "outputs": [],
   "source": [
    "example_text = \"\"\"\n",
    "# Lorem Ipsum\n",
    "\n",
    "Lorem ipsum dolor sit amet, consectetur adipiscing elit. Sed **mauris** velit, *fringilla* id tincidunt ut, [elementum](https://www.example.com) vitae magna.\n",
    "\n",
    "## Nullam Quis\n",
    "\n",
    "Nullam quis **_ultricies_** nisi. Proin vestibulum sapien et velit viverra, vitae vestibulum metus tincidunt. [Click here](https://www.example.com) for more information.\n",
    "\n",
    "### Fusce In\n",
    "\n",
    "Fusce in arcu nec turpis vehicula fringilla. Curabitur [malesuada](https://www.example.com) orci vel metus laoreet, vel convallis tortor suscipit.\n",
    "\n",
    "#### Ut Eros\n",
    "\n",
    "Ut eros felis, consectetur eget [libero](https://www.example.com) nec, aliquam ullamcorper libero. Sed vitae enim eu ligula auctor volutpat.\n",
    "\n",
    "##### Aliquam Erat\n",
    "\n",
    "Aliquam erat volutpat. Sed [imperdiet](https://www.example.com) dapibus odio, a cursus mauris consequat in. \n",
    "\n",
    "###### Suspendisse Tristique\n",
    "\n",
    "Suspendisse tristique, ipsum vel efficitur [sodales](https://www.example.com), elit ex fringilla arcu, vel rhoncus ligula tortor nec libero.\n",
    "\n",
    "---\n",
    "\n",
    "Lorem ipsum dolor sit amet, consectetur adipiscing elit. Vestibulum [ullamcorper](https://www.example.com) dignissim fringilla. ![Image](https://via.placeholder.com/150)\n",
    "\n",
    "---\n",
    "\n",
    "*Lorem ipsum* dolor sit amet, **consectetur *adipiscing* elit**. Aenean ut tortor eu [nibh](https://www.example.com) convallis luctus. **Pellentesque habitant** morbi tristique senectus et netus et malesuada fames ac turpis egestas.\n",
    "\n",
    "---\n",
    "\n",
    "In hac habitasse platea dictumst. [**Nunc**](https://www.example.com) scelerisque, eros sit amet varius volutpat, quam justo euismod metus, eu hendrerit mi tortor nec est.\n",
    "\n",
    "1. test 1\n",
    "1. test 2\n",
    "1. test 3\n",
    "1. test 4\n",
    "\n",
    ". test 1\n",
    ". test 2\n",
    ". test 3\n",
    ". test 4\n",
    "\n",
    "> This is a blockquote\n",
    "> This is it's continuation\n",
    "\n",
    "`here we can have anything we want **without** *formating*`\n",
    "\"\"\""
   ],
   "metadata": {
    "collapsed": false,
    "ExecuteTime": {
     "end_time": "2024-02-16T19:51:49.455909100Z",
     "start_time": "2024-02-16T19:51:49.437298400Z"
    }
   },
   "id": "a87629b82d953d8c",
   "execution_count": 10
  },
  {
   "cell_type": "code",
   "outputs": [
    {
     "name": "stdout",
     "output_type": "stream",
     "text": [
      "<br><h1> Lorem Ipsum</h1><br>Lorem ipsum dolor sit amet, consectetur adipiscing elit. Sed <b>mauris</b> velit, <i>fringilla</i> id tincidunt ut, <a href=\"https://www.example.com\">elementum</a> vitae magna.<br><h2> Nullam Quis</h2><br>Nullam quis <b><i>ultricies</i></b> nisi. Proin vestibulum sapien et velit viverra, vitae vestibulum metus tincidunt. <a href=\"https://www.example.com\">Click here</a> for more information.<br><h3> Fusce In</h3><br>Fusce in arcu nec turpis vehicula fringilla. Curabitur <a href=\"https://www.example.com\">malesuada</a> orci vel metus laoreet, vel convallis tortor suscipit.<br><h4> Ut Eros</h4><br>Ut eros felis, consectetur eget <a href=\"https://www.example.com\">libero</a> nec, aliquam ullamcorper libero. Sed vitae enim eu ligula auctor volutpat.<br><h5> Aliquam Erat</h5><br>Aliquam erat volutpat. Sed <a href=\"https://www.example.com\">imperdiet</a> dapibus odio, a cursus mauris consequat in. <br><h6> Suspendisse Tristique</h6><br>Suspendisse tristique, ipsum vel efficitur <a href=\"https://www.example.com\">sodales</a>, elit ex fringilla arcu, vel rhoncus ligula tortor nec libero.<br><hr><br>Lorem ipsum dolor sit amet, consectetur adipiscing elit. Vestibulum <a href=\"https://www.example.com\">ullamcorper</a> dignissim fringilla. <img alt=\"Image\" src=\"https://via.placeholder.com/150\" /><br><hr><br><i>Lorem ipsum</i> dolor sit amet, <b>consectetur <i>adipiscing</i> elit</b>. Aenean ut tortor eu <a href=\"https://www.example.com\">nibh</a> convallis luctus. <b>Pellentesque habitant</b> morbi tristique senectus et netus et malesuada fames ac turpis egestas.<br><hr><br>In hac habitasse platea dictumst. <a href=\"https://www.example.com\"><b>Nunc</b></a> scelerisque, eros sit amet varius volutpat, quam justo euismod metus, eu hendrerit mi tortor nec est.<br><ol><li>test 1</li><li>test 2</li><li>test 3</li><li>test 4</li></ol><br><ul><li>test 1</li><li>test 2</li><li>test 3</li><li>test 4</li></ul><br><blockquote>This is a blockquoteThis is it's continuation</blockquote><br>here we can have anything we want **without** *formating*\n"
     ]
    }
   ],
   "source": [
    "t = text2md(example_text)\n",
    "print(t)"
   ],
   "metadata": {
    "collapsed": false,
    "ExecuteTime": {
     "end_time": "2024-02-16T19:51:49.508185600Z",
     "start_time": "2024-02-16T19:51:49.462437Z"
    }
   },
   "id": "160442121f39f0bd",
   "execution_count": 11
  },
  {
   "cell_type": "code",
   "outputs": [
    {
     "data": {
      "text/plain": "<IPython.core.display.HTML object>",
      "text/html": "<br><h1> Lorem Ipsum</h1><br>Lorem ipsum dolor sit amet, consectetur adipiscing elit. Sed <b>mauris</b> velit, <i>fringilla</i> id tincidunt ut, <a href=\"https://www.example.com\">elementum</a> vitae magna.<br><h2> Nullam Quis</h2><br>Nullam quis <b><i>ultricies</i></b> nisi. Proin vestibulum sapien et velit viverra, vitae vestibulum metus tincidunt. <a href=\"https://www.example.com\">Click here</a> for more information.<br><h3> Fusce In</h3><br>Fusce in arcu nec turpis vehicula fringilla. Curabitur <a href=\"https://www.example.com\">malesuada</a> orci vel metus laoreet, vel convallis tortor suscipit.<br><h4> Ut Eros</h4><br>Ut eros felis, consectetur eget <a href=\"https://www.example.com\">libero</a> nec, aliquam ullamcorper libero. Sed vitae enim eu ligula auctor volutpat.<br><h5> Aliquam Erat</h5><br>Aliquam erat volutpat. Sed <a href=\"https://www.example.com\">imperdiet</a> dapibus odio, a cursus mauris consequat in. <br><h6> Suspendisse Tristique</h6><br>Suspendisse tristique, ipsum vel efficitur <a href=\"https://www.example.com\">sodales</a>, elit ex fringilla arcu, vel rhoncus ligula tortor nec libero.<br><hr><br>Lorem ipsum dolor sit amet, consectetur adipiscing elit. Vestibulum <a href=\"https://www.example.com\">ullamcorper</a> dignissim fringilla. <img alt=\"Image\" src=\"https://via.placeholder.com/150\" /><br><hr><br><i>Lorem ipsum</i> dolor sit amet, <b>consectetur <i>adipiscing</i> elit</b>. Aenean ut tortor eu <a href=\"https://www.example.com\">nibh</a> convallis luctus. <b>Pellentesque habitant</b> morbi tristique senectus et netus et malesuada fames ac turpis egestas.<br><hr><br>In hac habitasse platea dictumst. <a href=\"https://www.example.com\"><b>Nunc</b></a> scelerisque, eros sit amet varius volutpat, quam justo euismod metus, eu hendrerit mi tortor nec est.<br><ol><li>test 1</li><li>test 2</li><li>test 3</li><li>test 4</li></ol><br><ul><li>test 1</li><li>test 2</li><li>test 3</li><li>test 4</li></ul><br><blockquote>This is a blockquoteThis is it's continuation</blockquote><br>here we can have anything we want **without** *formating*"
     },
     "metadata": {},
     "output_type": "display_data"
    }
   ],
   "source": [
    "display(HTML(t))"
   ],
   "metadata": {
    "collapsed": false,
    "ExecuteTime": {
     "end_time": "2024-02-16T19:51:49.514233800Z",
     "start_time": "2024-02-16T19:51:49.480475200Z"
    }
   },
   "id": "7a253fdde8bb044d",
   "execution_count": 12
  }
 ],
 "metadata": {
  "kernelspec": {
   "display_name": "Python 3",
   "language": "python",
   "name": "python3"
  },
  "language_info": {
   "codemirror_mode": {
    "name": "ipython",
    "version": 2
   },
   "file_extension": ".py",
   "mimetype": "text/x-python",
   "name": "python",
   "nbconvert_exporter": "python",
   "pygments_lexer": "ipython2",
   "version": "2.7.6"
  }
 },
 "nbformat": 4,
 "nbformat_minor": 5
}
