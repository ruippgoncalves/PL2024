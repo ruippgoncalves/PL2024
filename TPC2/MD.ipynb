{
 "cells": [
  {
   "cell_type": "markdown",
   "source": [
    "# Conversor de Markdown para HTML\n",
    "\n",
    "Trabalho desenvolvido por Rui Gonçalves (A101759) a 2024-02-16\n",
    "\n",
    "## Descrição\n",
    "\n",
    "Converter um ficheiro de Markdown para HTML, nomeadamente:\n",
    "\n",
    "- Negrito\n",
    "- Itálico\n",
    "- Links\n",
    "- Imagens\n",
    "\n",
    "Também foram implementados títulos e linhas horizontais.\n",
    "\n",
    "## Trabalho desenvolvido"
   ],
   "metadata": {
    "collapsed": false
   },
   "id": "44ababa9323e80c0"
  },
  {
   "cell_type": "code",
   "outputs": [],
   "source": [
    "import re\n",
    "from IPython.display import display, HTML"
   ],
   "metadata": {
    "collapsed": false,
    "ExecuteTime": {
     "end_time": "2024-02-16T17:18:00.097439500Z",
     "start_time": "2024-02-16T17:18:00.087103400Z"
    }
   },
   "id": "5fbcab9e8b827a81",
   "execution_count": 1
  },
  {
   "cell_type": "markdown",
   "source": [
    "### Processamento\n",
    "\n",
    "As linhas de títulos são começadas pelo caracter `#` sendo que podem ter até 6 (`######`), cada um corresponde a um nivel adicional."
   ],
   "metadata": {
    "collapsed": false
   },
   "id": "8a47d72e0875f42"
  },
  {
   "cell_type": "code",
   "outputs": [],
   "source": [
    "def convert_title(text):\n",
    "    return re.sub(r'(^#+)(.*)', lambda t: f'<h{len(t[1])}>{t[2]}</h{len(t[1])}>', text)"
   ],
   "metadata": {
    "collapsed": false,
    "ExecuteTime": {
     "end_time": "2024-02-16T17:18:00.111280100Z",
     "start_time": "2024-02-16T17:18:00.101164600Z"
    }
   },
   "id": "6ca97fd5a8c28aec",
   "execution_count": 2
  },
  {
   "cell_type": "markdown",
   "source": [
    "As linhas horizontais são definidas por `___`, `---` ou `***`, pelo que um simples `re.sub` pode ser utilizado."
   ],
   "metadata": {
    "collapsed": false
   },
   "id": "eb2ff1373857a16b"
  },
  {
   "cell_type": "code",
   "outputs": [],
   "source": [
    "def convert_hr(text):\n",
    "    return re.sub(r'^___|---|\\*\\*\\*$', r'<hr>', text)"
   ],
   "metadata": {
    "collapsed": false,
    "ExecuteTime": {
     "end_time": "2024-02-16T17:18:00.118478Z",
     "start_time": "2024-02-16T17:18:00.117352200Z"
    }
   },
   "id": "d4d7e321b4b7cec6",
   "execution_count": 3
  },
  {
   "cell_type": "markdown",
   "source": [
    "Os links são definidos como `[text](href)`."
   ],
   "metadata": {
    "collapsed": false
   },
   "id": "6cc57e797e4c564e"
  },
  {
   "cell_type": "code",
   "outputs": [],
   "source": [
    "def convert_link(text):\n",
    "    return re.sub(r'([^!])\\[([^\\]]*)\\]\\(([^\\)]*)\\)', lambda l: f'{l[1]}<a href=\"{l[3]}\">{l[2]}</a>', text)"
   ],
   "metadata": {
    "collapsed": false,
    "ExecuteTime": {
     "end_time": "2024-02-16T17:18:00.131943100Z",
     "start_time": "2024-02-16T17:18:00.122532500Z"
    }
   },
   "id": "99a05474a3117188",
   "execution_count": 4
  },
  {
   "cell_type": "markdown",
   "source": [
    "As imagens são semelhantes a links, com `![alt](href)`."
   ],
   "metadata": {
    "collapsed": false
   },
   "id": "a60a45ed9edc704d"
  },
  {
   "cell_type": "code",
   "outputs": [],
   "source": [
    "def convert_img(text):\n",
    "    return re.sub(r'!\\[([^\\]]*)\\]\\(([^\\)]*)\\)', lambda l: f'<img alt=\"{l[1]}\" src=\"{l[2]}\" />', text)"
   ],
   "metadata": {
    "collapsed": false,
    "ExecuteTime": {
     "end_time": "2024-02-16T17:18:00.131943100Z",
     "start_time": "2024-02-16T17:18:00.128146900Z"
    }
   },
   "id": "17d192fbdd7aa509",
   "execution_count": 5
  },
  {
   "cell_type": "markdown",
   "source": [
    "Por último, o negrito e itálico, correspondem a `**negrito**`, `__negrito__`, `*italico*`, `*italico*`, sendo que estes podem ser juntos para `***negrito e itálico***` ou `***negrito e itálico***`."
   ],
   "metadata": {
    "collapsed": false
   },
   "id": "c01c8a6a804b9cd6"
  },
  {
   "cell_type": "code",
   "outputs": [],
   "source": [
    "# Correctly builds a list of the open and close\n",
    "#  [*, **, **, *, ***, **, ***, ***, **, ***]\n",
    "#  [1,  2,  2, 1,   1,  2,   3,   3,  2,   1]\n",
    "def open_close_build(starts):\n",
    "    final = []\n",
    "    stack = []\n",
    "\n",
    "    for part in starts:\n",
    "        last = '' if len(stack) == 0 else stack[-1]\n",
    "        mat = last == part\n",
    "        final.append(mat)\n",
    "\n",
    "        # Remove or append to the stack\n",
    "        if mat:\n",
    "            stack = stack[:-1]\n",
    "        else:\n",
    "            stack.append(part)\n",
    "\n",
    "    return final\n",
    "\n",
    "\n",
    "def write_tag(tag, close):\n",
    "    close = '/' if close else ''\n",
    "    return f'<{close}{tag}>'\n",
    "\n",
    "\n",
    "def convert_decoration(text):\n",
    "    starts = re.findall(r'\\*{1,3}|_{1,3}', text)\n",
    "    final = open_close_build(starts)\n",
    "\n",
    "    for m, c in zip(starts, final):\n",
    "        if m == '*' or m == '_':\n",
    "            tag = 'i'\n",
    "        elif m == '**' or m == '__':\n",
    "            tag = 'b'\n",
    "        else:\n",
    "            tag = f'ib'\n",
    "\n",
    "        if c:\n",
    "            tag = tag[::-1]\n",
    "\n",
    "        tag = ''.join([write_tag(t, c) for t in tag])\n",
    "\n",
    "        text = text.replace(m, tag, 1)\n",
    "\n",
    "    return text"
   ],
   "metadata": {
    "collapsed": false,
    "ExecuteTime": {
     "end_time": "2024-02-16T17:18:00.133942Z",
     "start_time": "2024-02-16T17:18:00.131943100Z"
    }
   },
   "id": "e9bf2edcaf92c005",
   "execution_count": 6
  },
  {
   "cell_type": "markdown",
   "source": [
    "Realizar a troca linha a linha."
   ],
   "metadata": {
    "collapsed": false
   },
   "id": "5aff74882b942b97"
  },
  {
   "cell_type": "code",
   "outputs": [],
   "source": [
    "def text2md(text):\n",
    "    def conver_line(line):\n",
    "        if not line:\n",
    "            line = '<br>'\n",
    "\n",
    "        line = convert_title(line)\n",
    "        line = convert_hr(line)\n",
    "        line = convert_link(line)\n",
    "        line = convert_img(line)\n",
    "        line = convert_decoration(line)\n",
    "\n",
    "        return line\n",
    "\n",
    "    lines = text.splitlines()\n",
    "    lines = [conver_line(line) for line in lines]\n",
    "\n",
    "    return ''.join(lines)"
   ],
   "metadata": {
    "collapsed": false,
    "ExecuteTime": {
     "end_time": "2024-02-16T17:18:00.163966200Z",
     "start_time": "2024-02-16T17:18:00.135942400Z"
    }
   },
   "id": "23af13964efd72cd",
   "execution_count": 7
  },
  {
   "cell_type": "markdown",
   "source": [
    "### Exemplo"
   ],
   "metadata": {
    "collapsed": false
   },
   "id": "80d215db6afa50"
  },
  {
   "cell_type": "code",
   "outputs": [],
   "source": [
    "example_text = \"\"\"\n",
    "# Lorem Ipsum\n",
    "\n",
    "Lorem ipsum dolor sit amet, consectetur adipiscing elit. Sed **mauris** velit, *fringilla* id tincidunt ut, [elementum](https://www.example.com) vitae magna.\n",
    "\n",
    "## Nullam Quis\n",
    "\n",
    "Nullam quis **_ultricies_** nisi. Proin vestibulum sapien et velit viverra, vitae vestibulum metus tincidunt. [Click here](https://www.example.com) for more information.\n",
    "\n",
    "### Fusce In\n",
    "\n",
    "Fusce in arcu nec turpis vehicula fringilla. Curabitur [malesuada](https://www.example.com) orci vel metus laoreet, vel convallis tortor suscipit.\n",
    "\n",
    "#### Ut Eros\n",
    "\n",
    "Ut eros felis, consectetur eget [libero](https://www.example.com) nec, aliquam ullamcorper libero. Sed vitae enim eu ligula auctor volutpat.\n",
    "\n",
    "##### Aliquam Erat\n",
    "\n",
    "Aliquam erat volutpat. Sed [imperdiet](https://www.example.com) dapibus odio, a cursus mauris consequat in. \n",
    "\n",
    "###### Suspendisse Tristique\n",
    "\n",
    "Suspendisse tristique, ipsum vel efficitur [sodales](https://www.example.com), elit ex fringilla arcu, vel rhoncus ligula tortor nec libero.\n",
    "\n",
    "---\n",
    "\n",
    "Lorem ipsum dolor sit amet, consectetur adipiscing elit. Vestibulum [ullamcorper](https://www.example.com) dignissim fringilla. ![Image](https://via.placeholder.com/150)\n",
    "\n",
    "---\n",
    "\n",
    "*Lorem ipsum* dolor sit amet, **consectetur *adipiscing* elit**. Aenean ut tortor eu [nibh](https://www.example.com) convallis luctus. **Pellentesque habitant** morbi tristique senectus et netus et malesuada fames ac turpis egestas.\n",
    "\n",
    "---\n",
    "\n",
    "In hac habitasse platea dictumst. [**Nunc**](https://www.example.com) scelerisque, eros sit amet varius volutpat, quam justo euismod metus, eu hendrerit mi tortor nec est.\n",
    "\"\"\""
   ],
   "metadata": {
    "collapsed": false,
    "ExecuteTime": {
     "end_time": "2024-02-16T17:18:00.164954800Z",
     "start_time": "2024-02-16T17:18:00.141283200Z"
    }
   },
   "id": "a87629b82d953d8c",
   "execution_count": 8
  },
  {
   "cell_type": "code",
   "outputs": [
    {
     "name": "stdout",
     "output_type": "stream",
     "text": [
      "<br><h1> Lorem Ipsum</h1><br>Lorem ipsum dolor sit amet, consectetur adipiscing elit. Sed <b>mauris</b> velit, <i>fringilla</i> id tincidunt ut, <a href=\"https://www.example.com\">elementum</a> vitae magna.<br><h2> Nullam Quis</h2><br>Nullam quis <b><i>ultricies</i></b> nisi. Proin vestibulum sapien et velit viverra, vitae vestibulum metus tincidunt. <a href=\"https://www.example.com\">Click here</a> for more information.<br><h3> Fusce In</h3><br>Fusce in arcu nec turpis vehicula fringilla. Curabitur <a href=\"https://www.example.com\">malesuada</a> orci vel metus laoreet, vel convallis tortor suscipit.<br><h4> Ut Eros</h4><br>Ut eros felis, consectetur eget <a href=\"https://www.example.com\">libero</a> nec, aliquam ullamcorper libero. Sed vitae enim eu ligula auctor volutpat.<br><h5> Aliquam Erat</h5><br>Aliquam erat volutpat. Sed <a href=\"https://www.example.com\">imperdiet</a> dapibus odio, a cursus mauris consequat in. <br><h6> Suspendisse Tristique</h6><br>Suspendisse tristique, ipsum vel efficitur <a href=\"https://www.example.com\">sodales</a>, elit ex fringilla arcu, vel rhoncus ligula tortor nec libero.<br><hr><br>Lorem ipsum dolor sit amet, consectetur adipiscing elit. Vestibulum <a href=\"https://www.example.com\">ullamcorper</a> dignissim fringilla. <img alt=\"Image\" src=\"https://via.placeholder.com/150\" /><br><hr><br><i>Lorem ipsum</i> dolor sit amet, <b>consectetur <i>adipiscing</i> elit</b>. Aenean ut tortor eu <a href=\"https://www.example.com\">nibh</a> convallis luctus. <b>Pellentesque habitant</b> morbi tristique senectus et netus et malesuada fames ac turpis egestas.<br><hr><br>In hac habitasse platea dictumst. <a href=\"https://www.example.com\"><b>Nunc</b></a> scelerisque, eros sit amet varius volutpat, quam justo euismod metus, eu hendrerit mi tortor nec est.\n"
     ]
    }
   ],
   "source": [
    "t = text2md(example_text)\n",
    "print(t)"
   ],
   "metadata": {
    "collapsed": false,
    "ExecuteTime": {
     "end_time": "2024-02-16T17:18:00.164954800Z",
     "start_time": "2024-02-16T17:18:00.145494100Z"
    }
   },
   "id": "160442121f39f0bd",
   "execution_count": 9
  },
  {
   "cell_type": "code",
   "outputs": [
    {
     "data": {
      "text/plain": "<IPython.core.display.HTML object>",
      "text/html": "<br><h1> Lorem Ipsum</h1><br>Lorem ipsum dolor sit amet, consectetur adipiscing elit. Sed <b>mauris</b> velit, <i>fringilla</i> id tincidunt ut, <a href=\"https://www.example.com\">elementum</a> vitae magna.<br><h2> Nullam Quis</h2><br>Nullam quis <b><i>ultricies</i></b> nisi. Proin vestibulum sapien et velit viverra, vitae vestibulum metus tincidunt. <a href=\"https://www.example.com\">Click here</a> for more information.<br><h3> Fusce In</h3><br>Fusce in arcu nec turpis vehicula fringilla. Curabitur <a href=\"https://www.example.com\">malesuada</a> orci vel metus laoreet, vel convallis tortor suscipit.<br><h4> Ut Eros</h4><br>Ut eros felis, consectetur eget <a href=\"https://www.example.com\">libero</a> nec, aliquam ullamcorper libero. Sed vitae enim eu ligula auctor volutpat.<br><h5> Aliquam Erat</h5><br>Aliquam erat volutpat. Sed <a href=\"https://www.example.com\">imperdiet</a> dapibus odio, a cursus mauris consequat in. <br><h6> Suspendisse Tristique</h6><br>Suspendisse tristique, ipsum vel efficitur <a href=\"https://www.example.com\">sodales</a>, elit ex fringilla arcu, vel rhoncus ligula tortor nec libero.<br><hr><br>Lorem ipsum dolor sit amet, consectetur adipiscing elit. Vestibulum <a href=\"https://www.example.com\">ullamcorper</a> dignissim fringilla. <img alt=\"Image\" src=\"https://via.placeholder.com/150\" /><br><hr><br><i>Lorem ipsum</i> dolor sit amet, <b>consectetur <i>adipiscing</i> elit</b>. Aenean ut tortor eu <a href=\"https://www.example.com\">nibh</a> convallis luctus. <b>Pellentesque habitant</b> morbi tristique senectus et netus et malesuada fames ac turpis egestas.<br><hr><br>In hac habitasse platea dictumst. <a href=\"https://www.example.com\"><b>Nunc</b></a> scelerisque, eros sit amet varius volutpat, quam justo euismod metus, eu hendrerit mi tortor nec est."
     },
     "metadata": {},
     "output_type": "display_data"
    }
   ],
   "source": [
    "display(HTML(t))"
   ],
   "metadata": {
    "collapsed": false,
    "ExecuteTime": {
     "end_time": "2024-02-16T17:18:00.166287800Z",
     "start_time": "2024-02-16T17:18:00.152643600Z"
    }
   },
   "id": "7a253fdde8bb044d",
   "execution_count": 10
  }
 ],
 "metadata": {
  "kernelspec": {
   "display_name": "Python 3",
   "language": "python",
   "name": "python3"
  },
  "language_info": {
   "codemirror_mode": {
    "name": "ipython",
    "version": 2
   },
   "file_extension": ".py",
   "mimetype": "text/x-python",
   "name": "python",
   "nbconvert_exporter": "python",
   "pygments_lexer": "ipython2",
   "version": "2.7.6"
  }
 },
 "nbformat": 4,
 "nbformat_minor": 5
}
