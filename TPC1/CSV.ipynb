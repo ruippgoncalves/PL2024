{
 "cells": [
  {
   "cell_type": "markdown",
   "id": "978494c327361308",
   "metadata": {
    "collapsed": false
   },
   "source": [
    "# Leitura e operação em ficheiros CSV\n",
    "\n",
    "Trabalho desenvolvido por Rui Gonçalves (A101759) a 2024-02-09\n",
    "\n",
    "## Descrição\n",
    "\n",
    "Ler um ficheiro no formato CSV e calcular alguns resultados do mesmo, nomeadamente:\n",
    "\n",
    "1. Lista ordenada alfabeticamente das modalidades desportivas;\n",
    "2. Percentagens de atletas aptos e inaptos para a prática desportiva;\n",
    "3. Distribuição de atletas por escalão etário (escalão = intervalo de 5 anos): ... \\[30-34], \\[35-39], ...\n",
    "\n",
    "O ficheiro `emd.csv` contêm o seguinte cabeçalho como primeira linha:\n",
    "\n",
    "```CSV\n",
    "_id,index,dataEMD,nome/primeiro,nome/último,idade,género,morada,modalidade,clube,email,federado,resultado\n",
    "```\n",
    "\n",
    "## Trabalho desenvolvido"
   ]
  },
  {
   "cell_type": "code",
   "execution_count": 1,
   "id": "e76da0e8cca495f",
   "metadata": {
    "ExecuteTime": {
     "end_time": "2024-02-09T15:47:05.487107600Z",
     "start_time": "2024-02-09T15:47:05.241914700Z"
    },
    "collapsed": false
   },
   "outputs": [],
   "source": [
    "import matplotlib.pyplot as plt # Apresentação de resultados\n",
    "import csv # Comparação para com o módulo CSV"
   ]
  },
  {
   "cell_type": "markdown",
   "id": "c9727379e5fd28f5",
   "metadata": {
    "collapsed": false
   },
   "source": [
    "### Processamento"
   ]
  },
  {
   "cell_type": "markdown",
   "id": "8ff1b52ab0e4db0",
   "metadata": {
    "collapsed": false
   },
   "source": [
    "Começamos por criar algumas constantes para guardar a informação relativa ao nome do ficheiro e aos indices das colunas de interesse."
   ]
  },
  {
   "cell_type": "code",
   "execution_count": 2,
   "id": "b59d559e8a38dd42",
   "metadata": {
    "ExecuteTime": {
     "end_time": "2024-02-09T15:47:05.490899200Z",
     "start_time": "2024-02-09T15:47:05.485864300Z"
    },
    "collapsed": false
   },
   "outputs": [],
   "source": [
    "DATA_FILENAME = 'data/emd.csv'\n",
    "\n",
    "IDADE = 5\n",
    "MODALIDADE = 8\n",
    "RESULTADO = 12"
   ]
  },
  {
   "cell_type": "markdown",
   "id": "ce12427daf7a8594",
   "metadata": {
    "collapsed": false
   },
   "source": [
    "Abrimos o ficheiro e ignoramos a linha do cabeçalho. "
   ]
  },
  {
   "cell_type": "code",
   "execution_count": 3,
   "id": "ba3c154a9cb22f5b",
   "metadata": {
    "ExecuteTime": {
     "end_time": "2024-02-09T15:47:05.495217900Z",
     "start_time": "2024-02-09T15:47:05.489499300Z"
    },
    "collapsed": false
   },
   "outputs": [],
   "source": [
    "data = open(DATA_FILENAME)\n",
    "\n",
    "_ = next(data)"
   ]
  },
  {
   "cell_type": "markdown",
   "id": "38dd81904c0a7d5f",
   "metadata": {
    "collapsed": false
   },
   "source": [
    "Percorremos todas as linhas restantes do ficheiro e calculamos os resultados."
   ]
  },
  {
   "cell_type": "code",
   "execution_count": 4,
   "id": "c762e0cd461c2bdc",
   "metadata": {
    "ExecuteTime": {
     "end_time": "2024-02-09T15:47:05.506300300Z",
     "start_time": "2024-02-09T15:47:05.497637100Z"
    },
    "collapsed": false
   },
   "outputs": [],
   "source": [
    "modalidades = set()\n",
    "aptos = 0\n",
    "escaloes = [0 for _ in range(20)]\n",
    "qtd = 0\n",
    "\n",
    "for line in data:\n",
    "    l = line.split(',')\n",
    "    \n",
    "    modalidades.add(l[MODALIDADE])\n",
    "    aptos += l[RESULTADO].strip() == 'true'\n",
    "    escalao = int(l[IDADE]) // 5\n",
    "    escaloes[escalao] += 1\n",
    "    \n",
    "    qtd += 1\n",
    "\n",
    "modalidades = sorted(modalidades)\n",
    "aptos = aptos * 100. / qtd"
   ]
  },
  {
   "cell_type": "markdown",
   "id": "5e60077f70648fba",
   "metadata": {
    "collapsed": false
   },
   "source": [
    "### Resultados\n",
    "\n",
    "#### Modalidades"
   ]
  },
  {
   "cell_type": "code",
   "execution_count": 5,
   "id": "e7d3138a7d90da99",
   "metadata": {
    "ExecuteTime": {
     "end_time": "2024-02-09T15:47:05.510300Z",
     "start_time": "2024-02-09T15:47:05.503301600Z"
    },
    "collapsed": false
   },
   "outputs": [
    {
     "name": "stdout",
     "output_type": "stream",
     "text": [
      "['Andebol', 'Atletismo', 'BTT', 'Badminton', 'Basquetebol', 'Ciclismo', 'Dança', 'Equitação', 'Esgrima', 'Futebol', 'Karaté', 'Orientação', 'Parapente', 'Patinagem', 'Triatlo']\n"
     ]
    }
   ],
   "source": [
    "print(modalidades)"
   ]
  },
  {
   "cell_type": "markdown",
   "id": "602984cf01eda2a1",
   "metadata": {
    "collapsed": false
   },
   "source": [
    "#### Aptidão"
   ]
  },
  {
   "cell_type": "code",
   "execution_count": 6,
   "id": "fe9fa4de9c452709",
   "metadata": {
    "ExecuteTime": {
     "end_time": "2024-02-09T15:47:05.543009800Z",
     "start_time": "2024-02-09T15:47:05.508302300Z"
    },
    "collapsed": false
   },
   "outputs": [
    {
     "name": "stdout",
     "output_type": "stream",
     "text": [
      "54.0 %\n"
     ]
    }
   ],
   "source": [
    "print(aptos, '%')"
   ]
  },
  {
   "cell_type": "markdown",
   "id": "1a3c3d614cec37ae",
   "metadata": {
    "collapsed": false
   },
   "source": [
    "#### Escalões"
   ]
  },
  {
   "cell_type": "code",
   "execution_count": 7,
   "id": "f30477680eb0dce3",
   "metadata": {
    "ExecuteTime": {
     "end_time": "2024-02-09T15:47:05.610407900Z",
     "start_time": "2024-02-09T15:47:05.516989400Z"
    },
    "collapsed": false
   },
   "outputs": [
    {
     "data": {
      "image/png": "[encoded data removed]",
      "text/plain": [
       "<Figure size 640x480 with 1 Axes>"
      ]
     },
     "metadata": {},
     "output_type": "display_data"
    }
   ],
   "source": [
    "lables = [f'[{i*5} - {(i+1)*5-1}]' for i in range(len(escaloes))]\n",
    "data = list(zip(escaloes, lables))\n",
    "\n",
    "# Strip data\n",
    "while data[0][0] == 0:\n",
    "    data.pop(0)\n",
    "while data[-1][0] == 0:\n",
    "    data.pop(-1)\n",
    "\n",
    "# Plot\n",
    "e, l = zip(*data)\n",
    "\n",
    "plt.bar(l, e)\n",
    "\n",
    "plt.xlabel('Facha Etária')\n",
    "plt.ylabel('Quantidade')\n",
    "plt.title('Distribuição dos Atletas por Facha Etária')\n",
    "\n",
    "plt.show()"
   ]
  },
  {
   "cell_type": "markdown",
   "id": "472112e833519824",
   "metadata": {
    "collapsed": false
   },
   "source": [
    "### Comparação com módulo CSV"
   ]
  },
  {
   "cell_type": "code",
   "execution_count": 8,
   "id": "e8371b35987f5397",
   "metadata": {
    "ExecuteTime": {
     "end_time": "2024-02-09T15:47:05.659732800Z",
     "start_time": "2024-02-09T15:47:05.610407900Z"
    },
    "collapsed": false
   },
   "outputs": [],
   "source": [
    "modalidades = set()\n",
    "aptos = 0\n",
    "escaloes = [0 for _ in range(20)]\n",
    "qtd = 0\n",
    "\n",
    "for l in csv.reader(data):    \n",
    "    modalidades.add(l[MODALIDADE])\n",
    "    aptos += l[RESULTADO].strip() == 'true'\n",
    "    escalao = int(l[IDADE]) // 5\n",
    "    escaloes[escalao] += 1\n",
    "    \n",
    "    qtd += 1\n",
    "\n",
    "modalidades = sorted(modalidades)\n",
    "aptos = aptos * 100. / qtd"
   ]
  },
  {
   "cell_type": "markdown",
   "id": "21282f7212fb70b3",
   "metadata": {
    "collapsed": false
   },
   "source": [
    "Por observação podemos verificar que as unicas alterações encontram-se no ciclo `for`, sendo que no original, liamos a linha e ainda tinahmos que dividir no caracter da vírgula, enquanto no módulo do CSV esse já é tratado automaticamente."
   ]
  }
 ],
 "metadata": {
  "kernelspec": {
   "display_name": "Python 3 (ipykernel)",
   "language": "python",
   "name": "python3"
  },
  "language_info": {
   "codemirror_mode": {
    "name": "ipython",
    "version": 3
   },
   "file_extension": ".py",
   "mimetype": "text/x-python",
   "name": "python",
   "nbconvert_exporter": "python",
   "pygments_lexer": "ipython3",
   "version": "3.10.12"
  }
 },
 "nbformat": 4,
 "nbformat_minor": 5
}
